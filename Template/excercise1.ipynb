{
 "cells": [
  {
   "cell_type": "markdown",
   "metadata": {},
   "source": [
    "# Dynamic Window Approach Simulation \n",
    "<div class=\"alert alert-block alert-info\">\n",
    "<b>Explanation:</b> In robotics motion planning, the dynamic window approach (DWA) is an online collision avoidance strategy for mobile robots. \n",
    "DWA allows a robot to dynamically adjust its path in real time, taking into account its capabilities and the environment around it. \n",
    "By focusing on short-term movements rather than a complete path, DWA is effective for navigating complex environments while avoiding obstacles.\n",
    "</div>"
   ]
  },
  {
   "cell_type": "code",
   "execution_count": 1,
   "metadata": {},
   "outputs": [
    {
     "ename": "ModuleNotFoundError",
     "evalue": "No module named 'Planner'",
     "output_type": "error",
     "traceback": [
      "\u001b[1;31m---------------------------------------------------------------------------\u001b[0m",
      "\u001b[1;31mModuleNotFoundError\u001b[0m                       Traceback (most recent call last)",
      "\u001b[1;32mc:\\Users\\Yide Tao\\OneDrive - Monash University\\MCAV\\Github\\2024-mcav-college-event\\Template\\excercise1.ipynb Cell 2\u001b[0m line \u001b[0;36m6\n\u001b[0;32m      <a href='vscode-notebook-cell:/c%3A/Users/Yide%20Tao/OneDrive%20-%20Monash%20University/MCAV/Github/2024-mcav-college-event/Template/excercise1.ipynb#W1sZmlsZQ%3D%3D?line=3'>4</a>\u001b[0m \u001b[39mimport\u001b[39;00m \u001b[39mjson\u001b[39;00m\n\u001b[0;32m      <a href='vscode-notebook-cell:/c%3A/Users/Yide%20Tao/OneDrive%20-%20Monash%20University/MCAV/Github/2024-mcav-college-event/Template/excercise1.ipynb#W1sZmlsZQ%3D%3D?line=4'>5</a>\u001b[0m \u001b[39mimport\u001b[39;00m \u001b[39mmath\u001b[39;00m\n\u001b[1;32m----> <a href='vscode-notebook-cell:/c%3A/Users/Yide%20Tao/OneDrive%20-%20Monash%20University/MCAV/Github/2024-mcav-college-event/Template/excercise1.ipynb#W1sZmlsZQ%3D%3D?line=5'>6</a>\u001b[0m \u001b[39mfrom\u001b[39;00m \u001b[39mPlanner\u001b[39;00m\u001b[39m.\u001b[39;00m\u001b[39mlocal_planner\u001b[39;00m \u001b[39mimport\u001b[39;00m dwa_control, motion, plot_robot, plot_arrow\n\u001b[0;32m      <a href='vscode-notebook-cell:/c%3A/Users/Yide%20Tao/OneDrive%20-%20Monash%20University/MCAV/Github/2024-mcav-college-event/Template/excercise1.ipynb#W1sZmlsZQ%3D%3D?line=6'>7</a>\u001b[0m \u001b[39mfrom\u001b[39;00m \u001b[39mIPython\u001b[39;00m\u001b[39m.\u001b[39;00m\u001b[39mdisplay\u001b[39;00m \u001b[39mimport\u001b[39;00m clear_output, display, Markdown\n",
      "\u001b[1;31mModuleNotFoundError\u001b[0m: No module named 'Planner'"
     ]
    }
   ],
   "source": [
    "import numpy as np\n",
    "import math\n",
    "import matplotlib.pyplot as plt\n",
    "import json\n",
    "import math\n",
    "from Planner.local_planner import dwa_control, motion, plot_robot, plot_arrow\n",
    "from IPython.display import clear_output, display, Markdown"
   ]
  },
  {
   "cell_type": "markdown",
   "metadata": {},
   "source": [
    "## Loading the Obstacles\n",
    "<div class=\"alert alert-block alert-info\">\n",
    "<b>Explanation:</b> \n",
    "\n",
    "- The code below converts the map data into a list of obstacles, each representing an obstacle's position (x, y) and a fixed radius for plotting.\n",
    "\n",
    "</div>"
   ]
  },
  {
   "cell_type": "code",
   "execution_count": 162,
   "metadata": {},
   "outputs": [],
   "source": [
    "\n",
    "# Load obstacle data from file\n",
    "with open('map.txt', 'r') as file:\n",
    "    map_data = json.load(file)\n",
    "\n",
    "# Define constants\n",
    "SIM_LOOP = 500\n",
    "radius = 0.07\n",
    "area = 1.5  # Set area size to center the plot on a larger grid\n",
    "\n",
    "# Convert obstacle data to a list of obstacles with fixed radius\n",
    "obstacle_list = [np.array((data['x'], data['y'], radius)) for data in map_data.values()]"
   ]
  },
  {
   "cell_type": "markdown",
   "metadata": {},
   "source": [
    "## Simulation Parameters\n",
    "<div class=\"alert alert-block alert-info\">\n",
    "<b>Explanation:</b> \n",
    "\n",
    "\n",
    "The parameters that need to be set include:\n",
    "- **Maximum Speed (max_speed)** \n",
    "    - The maximum speed that the vehicle can travel.\n",
    "    \n",
    "    \n",
    "    \n",
    "- **Minimum Speed (min_speed)** \n",
    "    - The minimum speed that the vehicle can travel.\n",
    "- **Maximum Acceleration (max_accel)** \n",
    "    - The maximum acceleration of the vehicle.  \n",
    "- **Maximum Angular velocity (max_yaw_rate)** \n",
    "    - The maximum angular velocity of the vehicle. \n",
    "- **Predicted time (predict_time)**  \n",
    "    - The predicted/estimated time to reach the goal without hitting any obstacles. \n",
    "\n",
    "\n",
    "</div>"
   ]
  },
  {
   "cell_type": "markdown",
   "metadata": {},
   "source": [
    "<div class=\"alert alert-block alert-warning\">\n",
    "<b>Note:</b> The angular velocity is the rate of change of the position angle of an object with respect to time. \n",
    "</div>"
   ]
  },
  {
   "cell_type": "markdown",
   "metadata": {},
   "source": [
    "<div class=\"alert alert-block alert-danger\">\n",
    "<b>Your Task:</b> Set the values of the five parameters described above; the goal is to achieve the lowest number of iterations in the simulation without any crashes. The person with the fewest iterations will win a chocolate!\n",
    "</div>"
   ]
  },
  {
   "cell_type": "code",
   "execution_count": 163,
   "metadata": {},
   "outputs": [],
   "source": [
    "\n",
    "class Config:\n",
    "    \"\"\"\n",
    "    simulation parameter class\n",
    "    \"\"\"\n",
    "\n",
    "    def __init__(self, obs_arr):\n",
    "        # robot parameter\n",
    "        # PARAMETERS THAT NEED TO BE SET (Replace _ with actual values):\n",
    "        # ======================================== To Do ============================================== #\n",
    "        self.max_speed = _  # [m/s]\n",
    "        self.min_speed = _  # [m/s]\n",
    "        self.max_yaw_rate = _  # [rad/s]\n",
    "        self.max_accel = _  # [m/ss]\n",
    "        self.predict_time = _ # [s]\n",
    "        # ============================================================================================= # \n",
    "\n",
    "        # Parameters that are kept constant. \n",
    "        self.max_delta_yaw_rate = 40.0 * math.pi / 180.0  # [rad/ss]\n",
    "        self.v_resolution = 0.01  # [m/s]\n",
    "        self.yaw_rate_resolution = 0.1 * math.pi / 180.0  # [rad/s]\n",
    "        self.dt = 0.1  # [s] Time tick for motion prediction\n",
    "        self.to_goal_cost_gain = 0.15\n",
    "        self.speed_cost_gain = 1\n",
    "        self.obstacle_cost_gain = 0.05\n",
    "        self.robot_stuck_flag_cons = 0.001  # constant to prevent robot stucked\n",
    "\n",
    "        # if robot_type == RobotType.circle\n",
    "        # Also used to check if goal is reached in both types\n",
    "        self.robot_radius = 0.05  # [m] for collision check\n",
    "        self.ob = obs_arr\n",
    "\n",
    "config = Config(obstacle_list)\n"
   ]
  },
  {
   "cell_type": "markdown",
   "metadata": {},
   "source": [
    "## Simulation Loop \n",
    "<div class=\"alert alert-block alert-info\">\n",
    "<b>Explanation:</b> \n",
    "\n",
    "- Plots each iteration in a loop to create a simulation. \n",
    "\n",
    "- The plot includes:\n",
    "    - <span style=\"color:blue\">Solid blue circle</span> to show the current location of vehicle.\n",
    "    - A <span style=\"color:black\">black arrow</span> to indicate the direction of the vehicle \n",
    "    - A <span style=\"color:green\">green line</span> to show the predicted trajectory.\n",
    "    - <span style=\"color:red\">Red circles</span> are the obstacles \n",
    "    - The <span style=\"color:blue\">blue cross</span> is the goal i.e. where the vehicle must reach \n",
    "</div>"
   ]
  },
  {
   "cell_type": "markdown",
   "metadata": {},
   "source": [
    "<div class=\"alert alert-block alert-warning\">\n",
    "<b>Note:</b> The number of iterations is shown as the title of the plot. \n",
    "</div>"
   ]
  },
  {
   "cell_type": "code",
   "execution_count": null,
   "metadata": {},
   "outputs": [],
   "source": [
    "\n",
    "\n",
    "# Initial state of the robot [x, y, yaw, v, omega]\n",
    "x = np.array([0.0, 0.0, math.pi / 8.0, 0.0, 0.0])\n",
    "\n",
    "# Goal position\n",
    "goal = np.array([1, 1])\n",
    "show_animation = True\n",
    "\n",
    "# Main simulation loop\n",
    "for i in range(SIM_LOOP):\n",
    "\n",
    "\n",
    "    print(f'Iteration: {i}')\n",
    "    \n",
    "    # Clear plot for each iteration\n",
    "    clear_output(wait=True)\n",
    "    \n",
    "    plt.cla()\n",
    "    # Check for ESC key to stop simulation\n",
    "    plt.gcf().canvas.mpl_connect('key_release_event', lambda event: [exit(0) if event.key == 'escape' else None])\n",
    "\n",
    "    # Plot obstacles\n",
    "    for obstacle in obstacle_list:\n",
    "        ob_x, ob_y, ob_r = obstacle\n",
    "        circle = plt.Circle((ob_x, ob_y), radius=ob_r, color='r', fill=False)\n",
    "        plt.gca().add_patch(circle)\n",
    "\n",
    "    # Run DWA control to get input (u) and predicted trajectory\n",
    "    ob = np.array([[obs[0], obs[1]] for obs in obstacle_list])  # Convert obstacles to 2D list for DWA\n",
    "    u, predicted_trajectory = dwa_control(x, config, goal, ob)\n",
    "\n",
    "    # Update robot state based on motion model\n",
    "    x = motion(x, u, config.dt)\n",
    "\n",
    "    # Plot the predicted trajectory and robot position\n",
    "    if show_animation:\n",
    "        plt.plot(predicted_trajectory[:, 0], predicted_trajectory[:, 1], \"-g\")  # DWA predicted trajectory\n",
    "        plt.plot(x[0], x[1], \"xr\")  # Current position of robot\n",
    "        plt.plot(goal[0], goal[1], \"xb\")  # Goal position\n",
    "        plot_robot(x[0], x[1], x[2], config)  # Plot the robot\n",
    "        plot_arrow(x[0], x[1], x[2])  # Plot direction arrow\n",
    "\n",
    "    # Set plot limits and grid\n",
    "    plt.xlim(-area, area)\n",
    "    plt.ylim(-area, area)\n",
    "    plt.grid(True)\n",
    "    plt.title(f\"Iteration {i + 1}\")\n",
    "    plt.gca().set_aspect('equal', adjustable='box')\n",
    "\n",
    "    # Check if goal is reached\n",
    "    dist_to_goal = math.hypot(x[0] - goal[0], x[1] - goal[1])\n",
    "    if dist_to_goal <= config.robot_radius:  # Assume robot radius or goal tolerance of 0.2 meters\n",
    "        print(\"Goal reached!\")\n",
    "        break\n",
    "    # Pause to simulate real-time update and display\n",
    "    plt.pause(0.01)\n",
    "\n",
    "\n",
    "print(\"Simulation finished.\")\n",
    "\n"
   ]
  }
 ],
 "metadata": {
  "kernelspec": {
   "display_name": "ece4078",
   "language": "python",
   "name": "python3"
  },
  "language_info": {
   "codemirror_mode": {
    "name": "ipython",
    "version": 3
   },
   "file_extension": ".py",
   "mimetype": "text/x-python",
   "name": "python",
   "nbconvert_exporter": "python",
   "pygments_lexer": "ipython3",
   "version": "3.12.5"
  }
 },
 "nbformat": 4,
 "nbformat_minor": 2
}
